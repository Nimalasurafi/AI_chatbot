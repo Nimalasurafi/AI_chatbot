{
  "nbformat": 4,
  "nbformat_minor": 0,
  "metadata": {
    "colab": {
      "provenance": []
    },
    "kernelspec": {
      "name": "python3",
      "display_name": "Python 3"
    },
    "language_info": {
      "name": "python"
    }
  },
  "cells": [
    {
      "cell_type": "code",
      "execution_count": 160,
      "metadata": {
        "id": "nnB_dkQerYzy"
      },
      "outputs": [],
      "source": [
        "import numpy as np\n",
        "import nltk\n",
        "import string\n",
        "import random"
      ]
    },
    {
      "cell_type": "code",
      "source": [
        "f = open('/content/restaurant.txt','r',errors='ignore')\n",
        "raw = f.read()\n"
      ],
      "metadata": {
        "id": "HiMEP2vqr00R"
      },
      "execution_count": 161,
      "outputs": []
    },
    {
      "cell_type": "code",
      "source": [
        "raw"
      ],
      "metadata": {
        "colab": {
          "base_uri": "https://localhost:8080/",
          "height": 140
        },
        "id": "JwG61mBioGy0",
        "outputId": "b314b8f8-3201-41fd-ab62-0ffd6348629b"
      },
      "execution_count": 162,
      "outputs": [
        {
          "output_type": "execute_result",
          "data": {
            "text/plain": [
              "'The restaurant name is  Nida 5 star hotel\\nit is luxury type\\n\\nordering rooms  via chatbot is availabe.\\n\\nWe have a total of 10 rooms, including 4 single bed rooms, 4 double bed rooms, and 2 family rooms.\\n\\nyes,food ordering also availabe here\\n\\nbreakfast menu\\nidly\\nstring hoppers\\nthosai\\n\\nlunch menu\\nfried rice\\nchicken fried rice\\nchicken biriyani\\n\\ndinner menu\\nfried rice\\nchicken fried rice\\n\\nsingle bed rooms fees is 1000\\n\\ndouble bed rooms fees is 2000\\n\\nfamily roomsfees is 3500\\n\\nany order for occasion is not available for via chatbot\\n\\nIf you wish to place an order for significant occasions such as weddings, birthdays, or parties,\\nplease note that orders are currently only accepted through direct inquiries\\n'"
            ],
            "application/vnd.google.colaboratory.intrinsic+json": {
              "type": "string"
            }
          },
          "metadata": {},
          "execution_count": 162
        }
      ]
    },
    {
      "cell_type": "code",
      "source": [
        "raw =raw.lower()\n",
        "nltk.download('punkt')\n",
        "nltk.download('wordnet')\n",
        "nltk.download('omw-1.4')\n"
      ],
      "metadata": {
        "colab": {
          "base_uri": "https://localhost:8080/"
        },
        "id": "UM9dmhCgp66V",
        "outputId": "22d01abf-80cb-49b4-d6c4-81c4c4c38cae"
      },
      "execution_count": 163,
      "outputs": [
        {
          "output_type": "stream",
          "name": "stderr",
          "text": [
            "[nltk_data] Downloading package punkt to /root/nltk_data...\n",
            "[nltk_data]   Package punkt is already up-to-date!\n",
            "[nltk_data] Downloading package wordnet to /root/nltk_data...\n",
            "[nltk_data]   Package wordnet is already up-to-date!\n",
            "[nltk_data] Downloading package omw-1.4 to /root/nltk_data...\n",
            "[nltk_data]   Package omw-1.4 is already up-to-date!\n"
          ]
        },
        {
          "output_type": "execute_result",
          "data": {
            "text/plain": [
              "True"
            ]
          },
          "metadata": {},
          "execution_count": 163
        }
      ]
    },
    {
      "cell_type": "code",
      "source": [
        "sentence_tokens = nltk.sent_tokenize(raw)\n",
        "word_tokens = nltk.word_tokenize(raw)\n",
        "\n"
      ],
      "metadata": {
        "id": "LpFAPC2Su8S7"
      },
      "execution_count": 164,
      "outputs": []
    },
    {
      "cell_type": "code",
      "source": [
        "sentence_tokens[:5]"
      ],
      "metadata": {
        "colab": {
          "base_uri": "https://localhost:8080/"
        },
        "id": "mNJfW8MGvsDL",
        "outputId": "9ea67426-53e9-418b-c558-7b4d688c4cde"
      },
      "execution_count": 165,
      "outputs": [
        {
          "output_type": "execute_result",
          "data": {
            "text/plain": [
              "['the restaurant name is  nida 5 star hotel\\nit is luxury type\\n\\nordering rooms  via chatbot is availabe.',\n",
              " 'we have a total of 10 rooms, including 4 single bed rooms, 4 double bed rooms, and 2 family rooms.',\n",
              " 'yes,food ordering also availabe here\\n\\nbreakfast menu\\nidly\\nstring hoppers\\nthosai\\n\\nlunch menu\\nfried rice\\nchicken fried rice\\nchicken biriyani\\n\\ndinner menu\\nfried rice\\nchicken fried rice\\n\\nsingle bed rooms fees is 1000\\n\\ndouble bed rooms fees is 2000\\n\\nfamily roomsfees is 3500\\n\\nany order for occasion is not available for via chatbot\\n\\nif you wish to place an order for significant occasions such as weddings, birthdays, or parties,\\nplease note that orders are currently only accepted through direct inquiries']"
            ]
          },
          "metadata": {},
          "execution_count": 165
        }
      ]
    },
    {
      "cell_type": "code",
      "source": [
        "word_tokens[:14]"
      ],
      "metadata": {
        "colab": {
          "base_uri": "https://localhost:8080/"
        },
        "id": "QeXjQR83v3Ub",
        "outputId": "aa613e77-a30f-4443-c3fd-944a54844d7e"
      },
      "execution_count": 166,
      "outputs": [
        {
          "output_type": "execute_result",
          "data": {
            "text/plain": [
              "['the',\n",
              " 'restaurant',\n",
              " 'name',\n",
              " 'is',\n",
              " 'nida',\n",
              " '5',\n",
              " 'star',\n",
              " 'hotel',\n",
              " 'it',\n",
              " 'is',\n",
              " 'luxury',\n",
              " 'type',\n",
              " 'ordering',\n",
              " 'rooms']"
            ]
          },
          "metadata": {},
          "execution_count": 166
        }
      ]
    },
    {
      "cell_type": "markdown",
      "source": [
        "performance text-preprocessing steps"
      ],
      "metadata": {
        "id": "JxafSMLcwHyO"
      }
    },
    {
      "cell_type": "code",
      "source": [
        "lemmer = nltk.stem.WordNetLemmatizer()\n",
        "\n",
        "def LemTokens(tokens):\n",
        "    return [lemmer.lemmatize(token) for token in tokens]\n",
        "\n",
        "remove_punc_dict = dict((ord(punct), None) for punct in string.punctuation)\n",
        "\n",
        "def LemNormalize(text):\n",
        "    return LemTokens(nltk.word_tokenize(text.lower().translate(remove_punc_dict)))"
      ],
      "metadata": {
        "id": "6GBYx4-lwROF"
      },
      "execution_count": 167,
      "outputs": []
    },
    {
      "cell_type": "markdown",
      "source": [
        "Define Greeting functions"
      ],
      "metadata": {
        "id": "5dCEp6_KymXp"
      }
    },
    {
      "cell_type": "code",
      "source": [
        "greet_inputs = ('hello', 'hi', 'whatsup', 'how are you')\n",
        "greet_response = ('hi', 'hello', 'hey there', 'good')\n",
        "\n",
        "def greet(sentence):\n",
        "    for word in sentence.split():\n",
        "        if word.lower() in greet_inputs:\n",
        "            return random.choice(greet_response)\n"
      ],
      "metadata": {
        "id": "kQuxAdeIyr07"
      },
      "execution_count": 168,
      "outputs": []
    },
    {
      "cell_type": "markdown",
      "source": [
        "Response generation by the Bot"
      ],
      "metadata": {
        "id": "Zk9turtfzsrq"
      }
    },
    {
      "cell_type": "code",
      "source": [
        "from sklearn.feature_extraction.text import TfidfVectorizer\n",
        "from sklearn.metrics.pairwise import cosine_similarity\n"
      ],
      "metadata": {
        "id": "R8sEzLZtzzG3"
      },
      "execution_count": 169,
      "outputs": []
    },
    {
      "cell_type": "code",
      "source": [
        "def response(user_response):\n",
        "    robo1_response = ''\n",
        "    user_response = user_response.lower()\n",
        "\n",
        "    TfidfVEC = TfidfVectorizer(tokenizer=LemNormalize, stop_words='english')\n",
        "    tfidf = TfidfVEC.fit_transform(sentence_tokens)\n",
        "    vals = cosine_similarity(tfidf[-1], tfidf)\n",
        "    idx = vals.argsort()[0][-2]\n",
        "    flat = vals.flatten()\n",
        "    flat.sort()\n",
        "    req_tfidf = flat[-2]\n",
        "\n",
        "    if req_tfidf == 0:\n",
        "        robo1_response = robo1_response + \"I am sorry. Unable to understand you.\"\n",
        "        return robo1_response\n",
        "    else:\n",
        "        robo1_response = robo1_response + sentence_tokens[idx]\n",
        "        return robo1_response\n"
      ],
      "metadata": {
        "id": "e3yK0rfj0fmJ"
      },
      "execution_count": 170,
      "outputs": []
    },
    {
      "cell_type": "code",
      "source": [],
      "metadata": {
        "id": "HWQ47s-fYhqs"
      },
      "execution_count": 170,
      "outputs": []
    },
    {
      "cell_type": "code",
      "source": [
        "raw"
      ],
      "metadata": {
        "colab": {
          "base_uri": "https://localhost:8080/",
          "height": 140
        },
        "id": "94Ne6SJK_3gY",
        "outputId": "a7faff68-f493-4190-d126-5ba57faac843"
      },
      "execution_count": 171,
      "outputs": [
        {
          "output_type": "execute_result",
          "data": {
            "text/plain": [
              "'the restaurant name is  nida 5 star hotel\\nit is luxury type\\n\\nordering rooms  via chatbot is availabe.\\n\\nwe have a total of 10 rooms, including 4 single bed rooms, 4 double bed rooms, and 2 family rooms.\\n\\nyes,food ordering also availabe here\\n\\nbreakfast menu\\nidly\\nstring hoppers\\nthosai\\n\\nlunch menu\\nfried rice\\nchicken fried rice\\nchicken biriyani\\n\\ndinner menu\\nfried rice\\nchicken fried rice\\n\\nsingle bed rooms fees is 1000\\n\\ndouble bed rooms fees is 2000\\n\\nfamily roomsfees is 3500\\n\\nany order for occasion is not available for via chatbot\\n\\nif you wish to place an order for significant occasions such as weddings, birthdays, or parties,\\nplease note that orders are currently only accepted through direct inquiries\\n'"
            ],
            "application/vnd.google.colaboratory.intrinsic+json": {
              "type": "string"
            }
          },
          "metadata": {},
          "execution_count": 171
        }
      ]
    },
    {
      "cell_type": "markdown",
      "source": [
        "Defining the chat flow"
      ],
      "metadata": {
        "id": "d5HNkLhm3N7v"
      }
    },
    {
      "cell_type": "code",
      "source": [
        "flag = True\n",
        "print('Hello, I am the Nida 5 star restaurant Chat Bot.')\n",
        "\n",
        "while flag == True:\n",
        "    user_response = input()\n",
        "    user_response = user_response.lower()\n",
        "\n",
        "    if user_response != 'bye':\n",
        "        if user_response == 'thank you' or user_response == 'thanks':\n",
        "            flag = False\n",
        "            print('Bot: You are welcome.')\n",
        "        else:\n",
        "            if (greet(user_response) != None):\n",
        "                print('Bot: ' + greet(user_response))\n",
        "            else:\n",
        "                sentence_tokens.append(user_response)\n",
        "                word_tokens = word_tokens + nltk.word_tokenize(user_response)\n",
        "                final_words = list(set(word_tokens))\n",
        "                print('Bot:', end=' ')\n",
        "                print(response(user_response))\n",
        "                sentence_tokens.remove(user_response)\n",
        "    else:\n",
        "        flag = False\n",
        "        print('Bot: Goodbye.')"
      ],
      "metadata": {
        "colab": {
          "base_uri": "https://localhost:8080/"
        },
        "id": "HhsZpXu13Nhr",
        "outputId": "6cec0287-b60d-4814-ad3d-d28d36ca038b"
      },
      "execution_count": 174,
      "outputs": [
        {
          "output_type": "stream",
          "name": "stdout",
          "text": [
            "Hello, I am the Nida 5 star restaurant Chat Bot.\n",
            "hi\n",
            "Bot: hi\n",
            "what are the rooms available ?\n",
            "Bot: we have a total of 10 rooms, including 4 single bed rooms, 4 double bed rooms, and 2 family rooms.\n",
            "thank you\n",
            "Bot: You are welcome.\n"
          ]
        }
      ]
    }
  ]
}